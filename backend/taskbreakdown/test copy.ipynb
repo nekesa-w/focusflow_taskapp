{
 "cells": [
  {
   "cell_type": "code",
   "execution_count": 6,
   "metadata": {},
   "outputs": [],
   "source": [
    "import torch\n",
    "import transformers\n",
    "from transformers import AutoModelForCausalLM, AutoTokenizer\n",
    "checkpoint = \"HuggingFaceTB/SmolLM2-135M-Instruct\"\n",
    "import re"
   ]
  },
  {
   "cell_type": "code",
   "execution_count": 7,
   "metadata": {},
   "outputs": [],
   "source": [
    "device = \"cpu\""
   ]
  },
  {
   "cell_type": "code",
   "execution_count": 8,
   "metadata": {},
   "outputs": [],
   "source": [
    "tokenizer = AutoTokenizer.from_pretrained(checkpoint)\n",
    "model = AutoModelForCausalLM.from_pretrained(checkpoint).to(device)"
   ]
  },
  {
   "cell_type": "code",
   "execution_count": 9,
   "metadata": {},
   "outputs": [],
   "source": [
    "def generate_subtasks(task_description, model, tokenizer, num_subtasks, max_length=500):\n",
    "    # Simplified prompt without motivation aspect\n",
    "    prompt = (\n",
    "        f\"Generate a list of {num_subtasks} clear and actionable steps for the task: {task_description}\\n\\n\"\n",
    "        \"Steps:\"\n",
    "    )\n",
    "\n",
    "    tokenizer.pad_token = tokenizer.eos_token\n",
    "\n",
    "    with torch.no_grad():\n",
    "        inputs = tokenizer(prompt, return_tensors=\"pt\", padding=True, truncation=True).to(model.device)\n",
    "\n",
    "        outputs = model.generate(\n",
    "            **inputs,\n",
    "            num_return_sequences=1,\n",
    "            pad_token_id=tokenizer.eos_token_id,\n",
    "            no_repeat_ngram_size=2,\n",
    "            num_beams=1,\n",
    "            early_stopping=True,\n",
    "            max_new_tokens=256\n",
    "        )\n",
    "\n",
    "    generated_text = tokenizer.decode(outputs[0], skip_special_tokens=True)\n",
    "\n",
    "    steps_section = generated_text.split(\"Steps:\", 1)[-1].strip()\n",
    "    subtasks = []\n",
    "\n",
    "    valid_step_regex = r\"^[0-9]+\\. .+\"  # Match lines that start with a number followed by a dot and a space\n",
    "\n",
    "    for line in steps_section.split(\"\\n\"):\n",
    "        line = line.strip()\n",
    "        if line and re.match(valid_step_regex, line):\n",
    "            # Remove the numbering (the part before the first dot)\n",
    "            step_text = re.sub(r\"^\\d+\\.\\s*\", \"\", line)\n",
    "            # Limit to max_length words and remove the trailing period\n",
    "            truncated_step = \" \".join(step_text.split()[:max_length]).rstrip(\".\")\n",
    "            subtasks.append(truncated_step)\n",
    "\n",
    "    # Ensure exactly 'num_subtasks' subtasks\n",
    "    while len(subtasks) < num_subtasks:\n",
    "        subtasks.append(\"Placeholder\")\n",
    "    subtasks = subtasks[:num_subtasks]  # If there are too many, truncate to the required number\n",
    "\n",
    "    return subtasks"
   ]
  },
  {
   "cell_type": "code",
   "execution_count": null,
   "metadata": {},
   "outputs": [],
   "source": []
  },
  {
   "cell_type": "code",
   "execution_count": 10,
   "metadata": {},
   "outputs": [
    {
     "name": "stderr",
     "output_type": "stream",
     "text": [
      "c:\\Users\\user\\AppData\\Local\\Programs\\Python\\Python312\\Lib\\site-packages\\transformers\\generation\\configuration_utils.py:638: UserWarning: `num_beams` is set to 1. However, `early_stopping` is set to `True` -- this flag is only used in beam-based generation modes. You should set `num_beams>1` or unset `early_stopping`.\n",
      "  warnings.warn(\n"
     ]
    },
    {
     "ename": "NameError",
     "evalue": "name 'max_length' is not defined",
     "output_type": "error",
     "traceback": [
      "\u001b[1;31m---------------------------------------------------------------------------\u001b[0m",
      "\u001b[1;31mNameError\u001b[0m                                 Traceback (most recent call last)",
      "Cell \u001b[1;32mIn[10], line 1\u001b[0m\n\u001b[1;32m----> 1\u001b[0m subtasks \u001b[38;5;241m=\u001b[39m \u001b[43mgenerate_subtasks\u001b[49m\u001b[43m(\u001b[49m\u001b[38;5;124;43m\"\u001b[39;49m\u001b[38;5;124;43mhow to cook eggs\u001b[39;49m\u001b[38;5;124;43m\"\u001b[39;49m\u001b[43m,\u001b[49m\u001b[43m \u001b[49m\u001b[43mmodel\u001b[49m\u001b[43m,\u001b[49m\u001b[43m \u001b[49m\u001b[43mtokenizer\u001b[49m\u001b[43m,\u001b[49m\u001b[43m \u001b[49m\u001b[43mnum_subtasks\u001b[49m\u001b[38;5;241;43m=\u001b[39;49m\u001b[38;5;241;43m7\u001b[39;49m\u001b[43m)\u001b[49m\n",
      "Cell \u001b[1;32mIn[9], line 43\u001b[0m, in \u001b[0;36mgenerate_subtasks\u001b[1;34m(task_description, model, tokenizer, num_subtasks)\u001b[0m\n\u001b[0;32m     41\u001b[0m         subtask_text \u001b[38;5;241m=\u001b[39m re\u001b[38;5;241m.\u001b[39msub(\u001b[38;5;124mr\u001b[39m\u001b[38;5;124m\"\u001b[39m\u001b[38;5;124m^\u001b[39m\u001b[38;5;124m\\\u001b[39m\u001b[38;5;124md+\u001b[39m\u001b[38;5;124m\\\u001b[39m\u001b[38;5;124m.\u001b[39m\u001b[38;5;124m\\\u001b[39m\u001b[38;5;124ms*\u001b[39m\u001b[38;5;124m\"\u001b[39m, \u001b[38;5;124m\"\u001b[39m\u001b[38;5;124m\"\u001b[39m, line)\n\u001b[0;32m     42\u001b[0m         \u001b[38;5;66;03m# Limit to max_length words and remove the trailing period\u001b[39;00m\n\u001b[1;32m---> 43\u001b[0m         truncated_subtask \u001b[38;5;241m=\u001b[39m \u001b[38;5;124m\"\u001b[39m\u001b[38;5;124m \u001b[39m\u001b[38;5;124m\"\u001b[39m\u001b[38;5;241m.\u001b[39mjoin(subtask_text\u001b[38;5;241m.\u001b[39msplit()[:\u001b[43mmax_length\u001b[49m])\u001b[38;5;241m.\u001b[39mrstrip(\u001b[38;5;124m\"\u001b[39m\u001b[38;5;124m.\u001b[39m\u001b[38;5;124m\"\u001b[39m)\n\u001b[0;32m     44\u001b[0m         subtasks\u001b[38;5;241m.\u001b[39mappend(truncated_subtask)\n\u001b[0;32m     46\u001b[0m \u001b[38;5;66;03m# Ensure exactly 'num_subtasks' subtasks\u001b[39;00m\n",
      "\u001b[1;31mNameError\u001b[0m: name 'max_length' is not defined"
     ]
    }
   ],
   "source": [
    "subtasks = generate_subtasks(\"how to cook eggs\", model, tokenizer, num_subtasks=7)"
   ]
  },
  {
   "cell_type": "code",
   "execution_count": null,
   "metadata": {},
   "outputs": [],
   "source": [
    "print(\"\\n\".join(f\"- {subtask}\" for subtask in subtasks))"
   ]
  }
 ],
 "metadata": {
  "kernelspec": {
   "display_name": "Python 3",
   "language": "python",
   "name": "python3"
  },
  "language_info": {
   "codemirror_mode": {
    "name": "ipython",
    "version": 3
   },
   "file_extension": ".py",
   "mimetype": "text/x-python",
   "name": "python",
   "nbconvert_exporter": "python",
   "pygments_lexer": "ipython3",
   "version": "3.12.3"
  }
 },
 "nbformat": 4,
 "nbformat_minor": 2
}
