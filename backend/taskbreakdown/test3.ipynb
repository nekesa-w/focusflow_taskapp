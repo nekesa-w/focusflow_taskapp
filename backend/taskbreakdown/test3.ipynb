{
 "cells": [
  {
   "cell_type": "code",
   "execution_count": 28,
   "metadata": {},
   "outputs": [],
   "source": [
    "import torch\n",
    "import transformers\n",
    "from transformers import AutoTokenizer, T5ForConditionalGeneration\n",
    "import re"
   ]
  },
  {
   "cell_type": "code",
   "execution_count": 29,
   "metadata": {},
   "outputs": [],
   "source": [
    "# Load the T5-small tokenizer and model\n",
    "tokenizer = AutoTokenizer.from_pretrained(\"t5-small\")\n",
    "model = T5ForConditionalGeneration.from_pretrained(\"t5-small\")"
   ]
  },
  {
   "cell_type": "code",
   "execution_count": 47,
   "metadata": {},
   "outputs": [],
   "source": [
    "def generate_subtasks(task_description, model, tokenizer):\n",
    "    # Optimized prompt for T5-small\n",
    "    prompt = f\"Organize a list of actionable steps to accomplish the task: {task_description}\\n\"\n",
    "\n",
    "    # Tokenize the input prompt\n",
    "    inputs = tokenizer(prompt, return_tensors=\"pt\", padding=True, truncation=True)\n",
    "\n",
    "    # Generate output from the model\n",
    "    with torch.no_grad():\n",
    "        outputs = model.generate(\n",
    "            **inputs,\n",
    "            num_return_sequences=1,\n",
    "            num_beams=3,            # Beam search for more coherent outputs\n",
    "            max_length=200,         # Limit the response length\n",
    "            early_stopping=True\n",
    "        )\n",
    "\n",
    "    # Decode the generated output\n",
    "    generated_text = tokenizer.decode(outputs[0], skip_special_tokens=True)\n",
    "\n",
    "    # Check if the model generated a response starting with a numbered list\n",
    "    subtasks = []\n",
    "    if \"1.\" in generated_text:\n",
    "        # Split by newline and process only lines with numbers and actions\n",
    "        for line in generated_text.split(\"\\n\"):\n",
    "            if line.strip().startswith(str(len(subtasks) + 1) + \".\"):\n",
    "                subtasks.append(line.strip())\n",
    "    else:\n",
    "        # If the output doesn't start with a numbered list, handle it as raw text and format it\n",
    "        subtasks = generated_text.split(\". \")\n",
    "        subtasks = [subtask.strip() for subtask in subtasks if subtask]\n",
    "\n",
    "    return subtasks"
   ]
  },
  {
   "cell_type": "code",
   "execution_count": 50,
   "metadata": {},
   "outputs": [],
   "source": [
    "task = \"plan wedding\"\n",
    "subtasks = generate_subtasks(task, model, tokenizer)"
   ]
  },
  {
   "cell_type": "code",
   "execution_count": 51,
   "metadata": {},
   "outputs": [
    {
     "name": "stdout",
     "output_type": "stream",
     "text": [
      "1. Organise a list of actionable steps to accomplish the task: plan wedding\n"
     ]
    }
   ],
   "source": [
    "for i, subtask in enumerate(subtasks, 1):\n",
    "    print(f\"{i}. {subtask}\")"
   ]
  }
 ],
 "metadata": {
  "kernelspec": {
   "display_name": "Python 3",
   "language": "python",
   "name": "python3"
  },
  "language_info": {
   "codemirror_mode": {
    "name": "ipython",
    "version": 3
   },
   "file_extension": ".py",
   "mimetype": "text/x-python",
   "name": "python",
   "nbconvert_exporter": "python",
   "pygments_lexer": "ipython3",
   "version": "3.12.3"
  }
 },
 "nbformat": 4,
 "nbformat_minor": 2
}
