{
 "cells": [
  {
   "cell_type": "code",
   "execution_count": 10,
   "metadata": {},
   "outputs": [],
   "source": [
    "import torch\n",
    "import transformers\n",
    "from transformers import AutoTokenizer, T5ForConditionalGeneration\n",
    "import re"
   ]
  },
  {
   "cell_type": "code",
   "execution_count": 11,
   "metadata": {},
   "outputs": [],
   "source": [
    "# Load the T5-small tokenizer and model\n",
    "tokenizer = AutoTokenizer.from_pretrained(\"t5-small\")\n",
    "model = T5ForConditionalGeneration.from_pretrained(\"t5-small\")"
   ]
  },
  {
   "cell_type": "code",
   "execution_count": 12,
   "metadata": {},
   "outputs": [],
   "source": [
    "def generate_subtasks(task_description, model, tokenizer, num_subtasks, max_length=500):\n",
    "    # Simplified prompt without motivation aspect\n",
    "    prompt = (\n",
    "        f\"Generate a list of {num_subtasks} clear and actionable steps for the task: {task_description}\\n\\n\"\n",
    "        \"Steps:\"\n",
    "    )\n",
    "\n",
    "    tokenizer.pad_token = tokenizer.eos_token\n",
    "\n",
    "    with torch.no_grad():\n",
    "        inputs = tokenizer(prompt, return_tensors=\"pt\", padding=True, truncation=True).to(model.device)\n",
    "\n",
    "        outputs = model.generate(\n",
    "            **inputs,\n",
    "            num_return_sequences=1,\n",
    "            pad_token_id=tokenizer.eos_token_id,\n",
    "            no_repeat_ngram_size=2,\n",
    "            num_beams=1,\n",
    "            early_stopping=True,\n",
    "            max_new_tokens=256\n",
    "        )\n",
    "\n",
    "    generated_text = tokenizer.decode(outputs[0], skip_special_tokens=True)\n",
    "\n",
    "    steps_section = generated_text.split(\"Steps:\", 1)[-1].strip()\n",
    "    subtasks = []\n",
    "\n",
    "    valid_step_regex = r\"^[0-9]+\\. .+\"  # Match lines that start with a number followed by a dot and a space\n",
    "\n",
    "    for line in steps_section.split(\"\\n\"):\n",
    "        line = line.strip()\n",
    "        if line and re.match(valid_step_regex, line):\n",
    "            # Remove the numbering (the part before the first dot)\n",
    "            step_text = re.sub(r\"^\\d+\\.\\s*\", \"\", line)\n",
    "            # Limit to max_length words and remove the trailing period\n",
    "            truncated_step = \" \".join(step_text.split()[:max_length]).rstrip(\".\")\n",
    "            subtasks.append(truncated_step)\n",
    "\n",
    "    # Ensure exactly 'num_subtasks' subtasks\n",
    "    while len(subtasks) < num_subtasks:\n",
    "        subtasks.append(\"Placeholder\")\n",
    "    subtasks = subtasks[:num_subtasks]  # If there are too many, truncate to the required number\n",
    "\n",
    "    return subtasks"
   ]
  },
  {
   "cell_type": "code",
   "execution_count": 13,
   "metadata": {},
   "outputs": [],
   "source": [
    "subtasks = generate_subtasks(\"how to cook eggs\", model, tokenizer, num_subtasks=7)"
   ]
  },
  {
   "cell_type": "code",
   "execution_count": 14,
   "metadata": {},
   "outputs": [
    {
     "name": "stdout",
     "output_type": "stream",
     "text": [
      "- Placeholder\n",
      "- Placeholder\n",
      "- Placeholder\n",
      "- Placeholder\n",
      "- Placeholder\n",
      "- Placeholder\n",
      "- Placeholder\n"
     ]
    }
   ],
   "source": [
    "print(\"\\n\".join(f\"- {subtask}\" for subtask in subtasks))"
   ]
  }
 ],
 "metadata": {
  "kernelspec": {
   "display_name": "Python 3",
   "language": "python",
   "name": "python3"
  },
  "language_info": {
   "codemirror_mode": {
    "name": "ipython",
    "version": 3
   },
   "file_extension": ".py",
   "mimetype": "text/x-python",
   "name": "python",
   "nbconvert_exporter": "python",
   "pygments_lexer": "ipython3",
   "version": "3.12.3"
  }
 },
 "nbformat": 4,
 "nbformat_minor": 2
}
