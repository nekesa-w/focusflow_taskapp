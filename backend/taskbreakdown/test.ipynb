{
 "cells": [
  {
   "cell_type": "code",
   "execution_count": 29,
   "metadata": {},
   "outputs": [],
   "source": [
    "import torch\n",
    "import transformers\n",
    "from transformers import AutoModelForCausalLM, AutoTokenizer\n",
    "checkpoint = \"HuggingFaceTB/SmolLM2-360M-Instruct\"\n",
    "import re"
   ]
  },
  {
   "cell_type": "code",
   "execution_count": 30,
   "metadata": {},
   "outputs": [],
   "source": [
    "device = \"cpu\""
   ]
  },
  {
   "cell_type": "code",
   "execution_count": 31,
   "metadata": {},
   "outputs": [],
   "source": [
    "tokenizer = AutoTokenizer.from_pretrained(checkpoint)\n",
    "model = AutoModelForCausalLM.from_pretrained(checkpoint).to(device)"
   ]
  },
  {
   "cell_type": "code",
   "execution_count": 32,
   "metadata": {},
   "outputs": [],
   "source": [
    "def generate_subtasks(task_description, model, tokenizer, num_subtasks):\n",
    "\n",
    "    # Updated prompt to be more motivational and positive\n",
    "    prompt = (\n",
    "        f\"You are a motivational task planner. Break down the following task into exactly {num_subtasks} inspiring, clear, and actionable steps. \"\n",
    "        \"Each subtask should be practical, specific, and easy to follow. Focus on making each step feel achievable and energizing. \"\n",
    "        \"Encourage the person completing the task with positive language. The steps should be ordered logically and aim to make progress feel rewarding. \"\n",
    "        \"Avoid any filler, general explanations, or placeholders.\"\n",
    "        \"be thorough or concise, depending on the setting. The goal is for someone to feel motivated and confident as they follow the steps and accomplish the task. \"\n",
    "        \"Each subtask should include words of encouragement and be no longer than {max_length} words.\\n\\n\"\n",
    "        f\"Task: {task_description}\\n\\n\"\n",
    "        \"Subtasks:\"\n",
    "    )\n",
    "\n",
    "    tokenizer.pad_token = tokenizer.eos_token\n",
    "\n",
    "    with torch.no_grad():\n",
    "        inputs = tokenizer(prompt, return_tensors=\"pt\", padding=True, truncation=True).to(model.device)\n",
    "\n",
    "        outputs = model.generate(\n",
    "            **inputs,\n",
    "            num_return_sequences=1,\n",
    "            pad_token_id=tokenizer.eos_token_id,\n",
    "            no_repeat_ngram_size=2,\n",
    "            num_beams=1,\n",
    "            early_stopping=True,\n",
    "            max_new_tokens=256\n",
    "        )\n",
    "\n",
    "    generated_text = tokenizer.decode(outputs[0], skip_special_tokens=True)\n",
    "\n",
    "    subtasks_section = generated_text.split(\"Subtasks:\", 1)[-1].strip()\n",
    "    subtasks = []\n",
    "\n",
    "    valid_subtask_regex = r\"^[0-9]+\\. .+\"  # Match lines that start with a number followed by a dot and a space\n",
    "\n",
    "    for line in subtasks_section.split(\"\\n\"):\n",
    "        line = line.strip()\n",
    "        if line and re.match(valid_subtask_regex, line):\n",
    "            # Remove the numbering (the part before the first dot)\n",
    "            subtask_text = re.sub(r\"^\\d+\\.\\s*\", \"\", line)\n",
    "            # Limit to max_length words and remove the trailing period\n",
    "            truncated_subtask = \" \".join(subtask_text.split()[:max_length]).rstrip(\".\")\n",
    "            subtasks.append(truncated_subtask)\n",
    "\n",
    "    # Ensure exactly 'num_subtasks' subtasks\n",
    "    while len(subtasks) < num_subtasks:\n",
    "        subtasks.append(\"Placeholder\")\n",
    "    subtasks = subtasks[:num_subtasks]  # If there are too many, truncate to the required number\n",
    "\n",
    "    return subtasks"
   ]
  },
  {
   "cell_type": "code",
   "execution_count": 37,
   "metadata": {},
   "outputs": [],
   "source": [
    "subtasks = generate_subtasks(\"how to cook eggs\", model, tokenizer, num_subtasks=7, detail_level='high')"
   ]
  },
  {
   "cell_type": "code",
   "execution_count": 38,
   "metadata": {},
   "outputs": [
    {
     "name": "stdout",
     "output_type": "stream",
     "text": [
      "- Gather ingredients: Gather all the necessary ingredients for the recipe. This includes eggs, butter, salt, pepper, milk, eggs whites, egg\n",
      "- Prepare the eggs: Crack the egg into a bowl and gently pour in the milk. Let it sit for a\n",
      "- Cook the Eggs: Heat a pan over medium heat and add a small amount of oil. Pour the beaten eggs\n",
      "- Placeholder\n",
      "- Placeholder\n"
     ]
    }
   ],
   "source": [
    "print(\"\\n\".join(f\"- {subtask}\" for subtask in subtasks))"
   ]
  }
 ],
 "metadata": {
  "kernelspec": {
   "display_name": "Python 3",
   "language": "python",
   "name": "python3"
  },
  "language_info": {
   "codemirror_mode": {
    "name": "ipython",
    "version": 3
   },
   "file_extension": ".py",
   "mimetype": "text/x-python",
   "name": "python",
   "nbconvert_exporter": "python",
   "pygments_lexer": "ipython3",
   "version": "3.12.3"
  }
 },
 "nbformat": 4,
 "nbformat_minor": 2
}
