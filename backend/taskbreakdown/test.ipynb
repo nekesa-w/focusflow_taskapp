{
 "cells": [
  {
   "cell_type": "code",
   "execution_count": 5,
   "metadata": {},
   "outputs": [],
   "source": [
    "from transformers import AutoModelForCausalLM, AutoTokenizer"
   ]
  },
  {
   "cell_type": "code",
   "execution_count": 6,
   "metadata": {},
   "outputs": [],
   "source": [
    "model_name = \"TinyLlama/TinyLlama-1.1B-Chat-v1.0\"\n",
    "tokenizer = AutoTokenizer.from_pretrained(model_name)\n",
    "model = AutoModelForCausalLM.from_pretrained(model_name)"
   ]
  },
  {
   "cell_type": "code",
   "execution_count": 7,
   "metadata": {},
   "outputs": [],
   "source": [
    "def generate_clean_subtasks(task_description):\n",
    "    \"\"\"\n",
    "    Generate clean subtasks for a given task using the TinyLlama model.\n",
    "    :param task_description: A string describing the task.\n",
    "    :return: A list of cleaned subtasks as strings.\n",
    "    \"\"\"\n",
    "    # Prepare the prompt\n",
    "    prompt = (\n",
    "        \"Break down the following task into a list of clear and actionable subtasks:\\n\\n\"\n",
    "        f\"Task: {task_description}\\n\\n\"\n",
    "        \"Subtasks:\\n\"\n",
    "    )\n",
    "\n",
    "    # Tokenize the input\n",
    "    inputs = tokenizer(prompt, return_tensors=\"pt\")\n",
    "\n",
    "    # Generate the response\n",
    "    outputs = model.generate(**inputs, max_length=256, num_return_sequences=1)\n",
    "\n",
    "    # Decode the generated text\n",
    "    generated_text = tokenizer.decode(outputs[0], skip_special_tokens=True)\n",
    "\n",
    "    # Extract subtasks section\n",
    "    subtasks_section = generated_text.split(\"Subtasks:\", 1)[-1].strip()\n",
    "\n",
    "    # Filter and clean subtasks\n",
    "    subtasks = []\n",
    "    for line in subtasks_section.split(\"\\n\"):\n",
    "        line = line.strip()\n",
    "        if line and line[0].isdigit():  # Only lines starting with a number\n",
    "            # Remove extra numbering if present (e.g., \"1. 1. Choose a venue\")\n",
    "            line = line[line.find(\".\") + 1:].strip()\n",
    "            subtasks.append(line)\n",
    "\n",
    "    # Remove duplicate or irrelevant subtasks\n",
    "    subtasks = [subtask for subtask in subtasks if subtask.lower() != \"break down each subtask into smaller, more manageable tasks\"]\n",
    "\n",
    "    return subtasks"
   ]
  },
  {
   "cell_type": "code",
   "execution_count": 8,
   "metadata": {},
   "outputs": [
    {
     "name": "stdout",
     "output_type": "stream",
     "text": [
      "Subtasks:\n",
      "1. Choose a venue\n",
      "2. Invite guests\n",
      "3. Plan the menu\n",
      "4. Purchase decorations\n",
      "5. Create a guest list\n",
      "6. Plan activities for kids\n",
      "7. Plan activities for adults\n",
      "8. Create a timeline\n",
      "9. Purchase party favors\n",
      "10. Create a budget\n",
      "11. Prioritize tasks based on urgency and importance\n",
      "12. Use a task management tool\n"
     ]
    }
   ],
   "source": [
    "# Example usage\n",
    "task = \"Organize a birthday party\"\n",
    "clean_subtasks = generate_clean_subtasks(task)\n",
    "print(\"Subtasks:\")\n",
    "for idx, subtask in enumerate(clean_subtasks, 1):\n",
    "    print(f\"{idx}. {subtask}\")"
   ]
  },
  {
   "cell_type": "code",
   "execution_count": 13,
   "metadata": {},
   "outputs": [
    {
     "name": "stdout",
     "output_type": "stream",
     "text": [
      "Subtasks:\n",
      "1. Clean bedroom floor\n",
      "2. Clean bedroom walls\n",
      "3. Clean bedroom closet\n",
      "4. Clean bedroom dresser\n",
      "5. Clean bedroom mirror\n",
      "6. Clean bedroom nightstands\n",
      "7. Clean bedroom bed\n",
      "8. Clean bedroom mattress\n",
      "9. Clean bedroom box spring\n",
      "10. Clean bedroom box\n",
      "11. Clean bedroom headboard\n",
      "12. Clean bedroom footboard\n",
      "13. Clean bedroom bedding\n",
      "14. Clean bedroom storage bins\n",
      "15. Clean bedroom storage drawers\n",
      "16. Clean bedroom storage shelves\n",
      "17. Clean bedroom dresser drawers\n",
      "18. Clean bedroom closet shelves\n",
      "19. Clean bedroom closet organizers\n",
      "20. Clean bedroom closet door\n"
     ]
    }
   ],
   "source": [
    "# Example usage\n",
    "task = \"Organize cleaning bedroom\"\n",
    "clean_subtasks = generate_clean_subtasks(task)\n",
    "print(\"Subtasks:\")\n",
    "for idx, subtask in enumerate(clean_subtasks, 1):\n",
    "    print(f\"{idx}. {subtask}\")"
   ]
  },
  {
   "cell_type": "code",
   "execution_count": 15,
   "metadata": {},
   "outputs": [
    {
     "name": "stdout",
     "output_type": "stream",
     "text": [
      "Subtasks:\n",
      "1. Prepare the living room for the holiday\n",
      "2. Prepare the dining room for the holiday\n",
      "3. Prepare the kitchen for the holiday\n",
      "4. Prepare the bedrooms for the holiday\n",
      "5. Prepare the bathrooms for the holiday\n",
      "6. Prepare the outdoor spaces for the holiday\n",
      "7. Prepare the holiday decorations\n",
      "8. Prepare the holiday food\n",
      "9. Prepare the holiday entertainment\n",
      "10. Prepare the holiday gifts\n",
      "11. Break down the holiday decorations into smaller tasks, such as \"Prepare the tree by trimming the branches and adding ornaments.\"\n",
      "12. Create a timeline for completing each subtask, such as \"Prepare the living room for the hol\n"
     ]
    }
   ],
   "source": [
    "# Example usage\n",
    "task = \"Organize a holiday\"\n",
    "clean_subtasks = generate_clean_subtasks(task)\n",
    "print(\"Subtasks:\")\n",
    "for idx, subtask in enumerate(clean_subtasks, 1):\n",
    "    print(f\"{idx}. {subtask}\")"
   ]
  }
 ],
 "metadata": {
  "kernelspec": {
   "display_name": "Python 3",
   "language": "python",
   "name": "python3"
  },
  "language_info": {
   "codemirror_mode": {
    "name": "ipython",
    "version": 3
   },
   "file_extension": ".py",
   "mimetype": "text/x-python",
   "name": "python",
   "nbconvert_exporter": "python",
   "pygments_lexer": "ipython3",
   "version": "3.12.3"
  }
 },
 "nbformat": 4,
 "nbformat_minor": 2
}
