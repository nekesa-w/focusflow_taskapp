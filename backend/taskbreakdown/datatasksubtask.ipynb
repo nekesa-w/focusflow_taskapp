{
 "cells": [
  {
   "cell_type": "code",
   "execution_count": 31,
   "metadata": {},
   "outputs": [
    {
     "name": "stdout",
     "output_type": "stream",
     "text": [
      "Formatted data saved to taskcsv/formatted_data.csv\n"
     ]
    }
   ],
   "source": [
    "import csv\n",
    "\n",
    "input_csv = \"taskcsv/merged_data.csv\"\n",
    "output_csv = \"taskcsv/formatted_data.csv\"\n",
    "\n",
    "with open(input_csv, mode='r', encoding='utf-8') as infile:\n",
    "    reader = csv.DictReader(infile)\n",
    "    formatted_data = []\n",
    "\n",
    "    for row in reader:\n",
    "        task = row['Input'].strip()\n",
    "        if task.lower().startswith(\"how to\"):\n",
    "            task = task[6:].strip()\n",
    "        \n",
    "        task = f'Task:{task} Subtasks:' \n",
    "        \n",
    "        subtasks = row['Output'].strip()\n",
    "        subtasks = subtasks.lstrip('\"').rstrip('\"')\n",
    "        subtasks = subtasks.split('., ')\n",
    "        subtasks = [subtask.strip().strip('.') for subtask in subtasks]\n",
    "        \n",
    "        numbered_subtasks = [f\"{i+1}. {subtask}\" for i, subtask in enumerate(subtasks)]\n",
    "        formatted_subtasks = ', '.join(numbered_subtasks)\n",
    "        \n",
    "        formatted_data.append({\n",
    "            'Input': task,\n",
    "            'Output': formatted_subtasks\n",
    "        })\n",
    "\n",
    "with open(output_csv, mode='w', encoding='utf-8', newline='') as outfile:\n",
    "    writer = csv.DictWriter(outfile, fieldnames=['Input', 'Output'])\n",
    "    writer.writeheader()\n",
    "    writer.writerows(formatted_data)\n",
    "\n",
    "print(f\"Formatted data saved to {output_csv}\")\n"
   ]
  }
 ],
 "metadata": {
  "kernelspec": {
   "display_name": "Python 3",
   "language": "python",
   "name": "python3"
  },
  "language_info": {
   "codemirror_mode": {
    "name": "ipython",
    "version": 3
   },
   "file_extension": ".py",
   "mimetype": "text/x-python",
   "name": "python",
   "nbconvert_exporter": "python",
   "pygments_lexer": "ipython3",
   "version": "3.12.3"
  }
 },
 "nbformat": 4,
 "nbformat_minor": 2
}
