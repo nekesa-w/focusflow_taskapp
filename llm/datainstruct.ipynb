{
 "cells": [
  {
   "cell_type": "code",
   "execution_count": 6,
   "metadata": {},
   "outputs": [
    {
     "name": "stdout",
     "output_type": "stream",
     "text": [
      "Formatted data saved to taskcsv/formatted_data.csv\n"
     ]
    }
   ],
   "source": [
    "import csv\n",
    "\n",
    "# Input and output file paths\n",
    "input_csv = \"taskcsv/merged_data.csv\"\n",
    "output_csv = \"taskcsv/formatted_data.csv\"\n",
    "\n",
    "# Open the input CSV file for reading\n",
    "with open(input_csv, mode='r', encoding='utf-8') as infile:\n",
    "    reader = csv.DictReader(infile)\n",
    "    formatted_data = []\n",
    "\n",
    "    # Iterate over each row in the dataset\n",
    "    for row in reader:\n",
    "        task = row['Input'].strip()\n",
    "        if task.lower().startswith(\"how to\"):\n",
    "            task = task[6:].strip()  # Remove \"How to\" if it starts with that\n",
    "        \n",
    "        # Get the raw output and clean it up\n",
    "        subtasks = row['Output'].strip()\n",
    "        subtasks = subtasks.lstrip('\"').rstrip('\"')  # Clean up any surrounding quotes\n",
    "        \n",
    "        # Count the occurrences of '.,' pairs and add 1 to get the number of steps\n",
    "        num_steps = subtasks.count('.,') + 1\n",
    "        \n",
    "        # Create the instruction with the number of steps\n",
    "        instruction = f\"Generate a list of {num_steps} steps of how to {task}\"\n",
    "        \n",
    "        # Add the task and output to the formatted data without splitting the output\n",
    "        formatted_data.append({\n",
    "            'instruction': instruction,\n",
    "            'output': subtasks\n",
    "        })\n",
    "\n",
    "# Open the output CSV file for writing\n",
    "with open(output_csv, mode='w', encoding='utf-8', newline='') as outfile:\n",
    "    writer = csv.DictWriter(outfile, fieldnames=['instruction', 'output'])\n",
    "    writer.writeheader()\n",
    "    writer.writerows(formatted_data)\n",
    "\n",
    "print(f\"Formatted data saved to {output_csv}\")\n"
   ]
  }
 ],
 "metadata": {
  "kernelspec": {
   "display_name": "Python 3",
   "language": "python",
   "name": "python3"
  },
  "language_info": {
   "codemirror_mode": {
    "name": "ipython",
    "version": 3
   },
   "file_extension": ".py",
   "mimetype": "text/x-python",
   "name": "python",
   "nbconvert_exporter": "python",
   "pygments_lexer": "ipython3",
   "version": "3.12.3"
  }
 },
 "nbformat": 4,
 "nbformat_minor": 2
}
