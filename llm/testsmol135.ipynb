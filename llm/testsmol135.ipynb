{
 "cells": [
  {
   "cell_type": "code",
   "execution_count": 1,
   "metadata": {},
   "outputs": [],
   "source": [
    "import torch\n",
    "import transformers\n",
    "from transformers import AutoModelForCausalLM, AutoTokenizer\n",
    "checkpoint = \"HuggingFaceTB/SmolLM2-135M-Instruct\"\n",
    "import re"
   ]
  },
  {
   "cell_type": "code",
   "execution_count": 2,
   "metadata": {},
   "outputs": [],
   "source": [
    "device = \"cpu\""
   ]
  },
  {
   "cell_type": "code",
   "execution_count": 3,
   "metadata": {},
   "outputs": [],
   "source": [
    "tokenizer = AutoTokenizer.from_pretrained(checkpoint)\n",
    "model = AutoModelForCausalLM.from_pretrained(checkpoint).to(device)"
   ]
  },
  {
   "cell_type": "code",
   "execution_count": 18,
   "metadata": {},
   "outputs": [],
   "source": [
    "def generate_subtasks(task_description, model, tokenizer, num_subtasks):\n",
    "    prompt = (\n",
    "        f\"You are a task planner. Break down the following task into exactly {num_subtasks} clear and actionable steps. \"\n",
    "        \"Each subtask should be practical, specific, and easy to follow. The subtasks should be ordered logically, \"\n",
    "        \"and should focus on accomplishing the task in a methodical way. Avoid any filler, general explanations, or placeholders. \"\n",
    "        \"The goal is for someone to be able to follow these steps and complete \"\n",
    "        \"the task without needing further clarification.\\n\\n\"\n",
    "        f\"Task: {task_description}\\n\\n\"\n",
    "        \"Subtasks:\"\n",
    "    )\n",
    "\n",
    "    tokenizer.pad_token = tokenizer.eos_token\n",
    "\n",
    "    with torch.no_grad():\n",
    "        inputs = tokenizer(prompt, return_tensors=\"pt\", padding=True, truncation=True).to(model.device)\n",
    "        \n",
    "        outputs = model.generate(\n",
    "            **inputs,\n",
    "            num_return_sequences=1,\n",
    "            pad_token_id=tokenizer.eos_token_id,\n",
    "            no_repeat_ngram_size=2,\n",
    "            num_beams=1,\n",
    "            early_stopping=True,\n",
    "            max_new_tokens=256\n",
    "        )\n",
    "    \n",
    "    generated_text = tokenizer.decode(outputs[0], skip_special_tokens=True)\n",
    "\n",
    "    subtasks_section = generated_text.split(\"Subtasks:\", 1)[-1].strip()\n",
    "    subtasks = []\n",
    "    \n",
    "    # Match valid subtasks that start with a number followed by a period and space\n",
    "    valid_subtask_regex = r\"^\\d+\\.\\s+\"\n",
    "\n",
    "    for line in subtasks_section.split(\"\\n\"):\n",
    "        line = line.strip()\n",
    "        if line and re.match(valid_subtask_regex, line):\n",
    "            subtask_text = re.sub(r\"^\\d+\\.\\s*\", \"\", line)  # Remove numbering\n",
    "            subtasks.append(subtask_text.strip())  # Add the subtask text\n",
    "\n",
    "    # Ensure exactly 'num_subtasks' subtasks, truncating if necessary\n",
    "    subtasks = subtasks[:num_subtasks]\n",
    "\n",
    "    # If there are fewer subtasks, fill in placeholders but avoid adding placeholders if it is an incomplete task\n",
    "    while len(subtasks) < num_subtasks:\n",
    "        subtasks.append(\"Complete the task.\")\n",
    "\n",
    "    return subtasks"
   ]
  },
  {
   "cell_type": "code",
   "execution_count": 19,
   "metadata": {},
   "outputs": [],
   "source": [
    "subtasks = generate_subtasks(\"plan wedding\", model, tokenizer, num_subtasks=8)"
   ]
  },
  {
   "cell_type": "code",
   "execution_count": 20,
   "metadata": {},
   "outputs": [
    {
     "name": "stdout",
     "output_type": "stream",
     "text": [
      "1. Research wedding venues\n",
      "2. Create a guest list\n",
      "3. Choose a date and time for the wedding\n",
      "4. Book a caterer\n",
      "5. Arrange for flowers and decorations\n",
      "6. Plan the ceremony and reception\n",
      "7. Send out invitations\n",
      "8. Prepare for last-minute changes\n"
     ]
    }
   ],
   "source": [
    "for i, subtask in enumerate(subtasks, 1):\n",
    "    print(f\"{i}. {subtask}\")"
   ]
  }
 ],
 "metadata": {
  "kernelspec": {
   "display_name": "Python 3",
   "language": "python",
   "name": "python3"
  },
  "language_info": {
   "codemirror_mode": {
    "name": "ipython",
    "version": 3
   },
   "file_extension": ".py",
   "mimetype": "text/x-python",
   "name": "python",
   "nbconvert_exporter": "python",
   "pygments_lexer": "ipython3",
   "version": "3.12.3"
  }
 },
 "nbformat": 4,
 "nbformat_minor": 2
}
